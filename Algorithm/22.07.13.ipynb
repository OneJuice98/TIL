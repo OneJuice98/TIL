{
 "cells": [
  {
   "cell_type": "markdown",
   "metadata": {},
   "source": [
    "### 괄호 #9012\n",
    " 1. ( 먼저 찾고 ) 찾으면 지우기\n",
    " 2. 없으면 내비두고 남은 것들로 1번 진행\n",
    " "
   ]
  },
  {
   "cell_type": "code",
   "execution_count": 14,
   "metadata": {},
   "outputs": [
    {
     "name": "stdout",
     "output_type": "stream",
     "text": [
      "1\n",
      "(()())((()))\n",
      "YES\n"
     ]
    }
   ],
   "source": [
    "N = int(input())\n",
    "\n",
    "\n",
    "for i in range(N):\n",
    "    seq = (input())\n",
    "    check = []\n",
    "    for j in seq:\n",
    "        if j == \"(\":\n",
    "            check.append(j)\n",
    "        elif j == ')':\n",
    "            if check:\n",
    "                check.pop()\n",
    "            else:\n",
    "                print(\"NO\")\n",
    "                break\n",
    "    else:\n",
    "        if not check:\n",
    "            print(\"YES\")\n",
    "        else:\n",
    "            print(\"NO\")\n"
   ]
  }
 ],
 "metadata": {
  "kernelspec": {
   "display_name": "Python 3",
   "language": "python",
   "name": "python3"
  },
  "language_info": {
   "codemirror_mode": {
    "name": "ipython",
    "version": 3
   },
   "file_extension": ".py",
   "mimetype": "text/x-python",
   "name": "python",
   "nbconvert_exporter": "python",
   "pygments_lexer": "ipython3",
   "version": "3.7.4"
  }
 },
 "nbformat": 4,
 "nbformat_minor": 4
}
