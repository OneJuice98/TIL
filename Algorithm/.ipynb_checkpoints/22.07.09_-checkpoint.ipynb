{
 "cells": [
  {
   "cell_type": "markdown",
   "metadata": {},
   "source": [
    "### 덱 #10866\n",
    "* deque : 양방향 큐, deque!\n",
    " 1. 앞, 뒤 양쪽 방향에서 element를 추가 및 제거가능!\n",
    " 2. append, pop이 압도적으로 빠름!\n",
    " 3. 일반적인 list 는 O(n) 이지만 이친구는 O(1)의 복잡도래!\n",
    " \n",
    "* deque method\n",
    " 1. deque.append(item) : item을 deque의 오른쪽 끝에 삽입\n",
    " 2. deque.appendleft(item) : item을 deque의 왼쪽 끝에 삽입\n",
    " 3. deque.pop() : deque의 오른쪽 끝 element를 가져오는 동시에 deque에서 삭제\n",
    " 4. deque.popleft() : deque의 왼쪽 끝 element를 가져오는 동시에 deque에서 삭제\n",
    " 5. deque.extend(array) : 주어진 배열(array)을 순환하면서 deque의 오른쪽에 추가\n",
    " 6. deque.extendleft(array) : 주어진 배열(array)을 순환하면서 deque의 왼쪽에 추가\n",
    " 7. deque.remove(item) : item을 deque에서 찾아 삭제\n",
    " 8. deque.rotate(num) : deque을 num만큼 회전한다.(양수 오른쪽, 음수 왼쪽)"
   ]
  },
  {
   "cell_type": "code",
   "execution_count": 8,
   "metadata": {},
   "outputs": [
    {
     "name": "stdout",
     "output_type": "stream",
     "text": [
      "1\n",
      "front\n",
      "[['front']]\n",
      "[]\n"
     ]
    }
   ],
   "source": [
    "from collections import deque\n",
    "\n",
    "N = int(input())\n",
    "\n",
    "cmd_list = []\n",
    "for i in range(N):\n",
    "    cmd = input().split()\n",
    "    if len(cmd) == 1:\n",
    "        cmd.append('')\n",
    "    cmd_list.append(cmd)\n",
    "\n",
    "print(cmd_list)\n",
    "deque = []\n",
    "for cmd in cmd_list:\n",
    "    if cmd[0] == 'push_back':\n",
    "        deque.append(int(cmd[1]))\n",
    "    elif cmd[0] == 'push_front':\n",
    "        deque.appendleft(int(cmd[1]))\n",
    "    elif cmd[0] == 'pop_front':\n",
    "        if len(deque) == 0:\n",
    "            print(-1)\n",
    "        else:\n",
    "            print(deque.popleft())\n",
    "    elif cmd[0] == 'pop_back':\n",
    "        if len(deque) == 0:\n",
    "            print(-1)\n",
    "        else:\n",
    "            print(deque.pop())\n",
    "print(deque)"
   ]
  }
 ],
 "metadata": {
  "kernelspec": {
   "display_name": "Python 3",
   "language": "python",
   "name": "python3"
  },
  "language_info": {
   "codemirror_mode": {
    "name": "ipython",
    "version": 3
   },
   "file_extension": ".py",
   "mimetype": "text/x-python",
   "name": "python",
   "nbconvert_exporter": "python",
   "pygments_lexer": "ipython3",
   "version": "3.7.4"
  }
 },
 "nbformat": 4,
 "nbformat_minor": 4
}
