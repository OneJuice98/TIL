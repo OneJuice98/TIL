{
 "cells": [
  {
   "cell_type": "markdown",
   "metadata": {},
   "source": [
    "### 스택 수열 #1874\n",
    "\n",
    " * 스택\n",
    "  - 스택은 자료를 넣는 입구(push) = 자료를 뽑는 입구 (pop)\n",
    "  - LIFO (Last in First out) "
   ]
  },
  {
   "cell_type": "markdown",
   "metadata": {},
   "source": [
    "#### 예제 풀이\n",
    "\n",
    " |---| Array|\n",
    " |:---:|:---:|\n",
    " |push|1 2 3 4   |\n",
    " |pop |4 3       |\n",
    " |push|1 2 5 6   |\n",
    " |pop |6         |\n",
    " |push| 1 2 5 7 8|\n",
    " |pop | 8 7 5 2 1|\n",
    " \n",
    " * pop 순서를 통해 수열의 가능 여부를 판단 가능"
   ]
  },
  {
   "cell_type": "code",
   "execution_count": 9,
   "metadata": {},
   "outputs": [
    {
     "name": "stdout",
     "output_type": "stream",
     "text": [
      "8\n",
      "4\n",
      "3\n",
      "6\n",
      "8\n",
      "7\n",
      "5\n",
      "2\n",
      "1\n",
      "+\n",
      "+\n",
      "+\n",
      "+\n",
      "-\n",
      "-\n",
      "+\n",
      "+\n",
      "-\n",
      "+\n",
      "+\n",
      "-\n",
      "-\n",
      "-\n",
      "-\n",
      "-\n"
     ]
    }
   ],
   "source": [
    "N = int(input())\n",
    "seq = []\n",
    "ans = []\n",
    "can_make = True \n",
    "cur = 1\n",
    "for i in range(N):\n",
    "    num = int(input())\n",
    "    while cur <= num: # cursor가 입력값 보다 작을 경우 계속 push \n",
    "        seq.append(cur)\n",
    "        ans.append(\"+\")\n",
    "        cur += 1\n",
    "    if seq[-1] == num: # seq의 마지막이 입력값과 같을 때 pop\n",
    "        seq.pop()\n",
    "        ans.append(\"-\")\n",
    "    else:\n",
    "        print(\"NO\")\n",
    "        can_make = False\n",
    "        break\n",
    "\n",
    "if can_make:\n",
    "    for i in ans:\n",
    "        print(i)"
   ]
  }
 ],
 "metadata": {
  "kernelspec": {
   "display_name": "Python 3",
   "language": "python",
   "name": "python3"
  },
  "language_info": {
   "codemirror_mode": {
    "name": "ipython",
    "version": 3
   },
   "file_extension": ".py",
   "mimetype": "text/x-python",
   "name": "python",
   "nbconvert_exporter": "python",
   "pygments_lexer": "ipython3",
   "version": "3.7.4"
  }
 },
 "nbformat": 4,
 "nbformat_minor": 4
}
