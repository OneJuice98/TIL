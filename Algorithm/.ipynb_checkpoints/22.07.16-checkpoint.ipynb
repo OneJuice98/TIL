{
 "cells": [
  {
   "cell_type": "markdown",
   "metadata": {},
   "source": [
    "### ACM 호텔 #10250"
   ]
  },
  {
   "cell_type": "code",
   "execution_count": 13,
   "metadata": {},
   "outputs": [
    {
     "name": "stdout",
     "output_type": "stream",
     "text": [
      "1\n",
      "6 12 10\n",
      "['11', '21', '31', '41', '51', '61', '12', '22', '32', '42', '52', '62', '13', '23', '33', '43', '53', '63', '14', '24', '34', '44', '54', '64', '15', '25', '35', '45', '55', '65', '16', '26', '36', '46', '56', '66', '17', '27', '37', '47', '57', '67', '18', '28', '38', '48', '58', '68', '19', '29', '39', '49', '59', '69', '110', '210', '310', '410', '510', '610', '111', '211', '311', '411', '511', '611', '112', '212', '312', '412', '512', '612']\n"
     ]
    },
    {
     "data": {
      "text/plain": [
       "'\\n6 12 12\\n101 201 301 401 501 601\\n102 202 302 402 502 602\\nINPUT \\n2 \\n20 20  180 \\n30 30 270\\n\\nOUTPUT\\n209\\n309\\n\\nANSWER\\n\\n2009\\n\\n3009\\n\\n'"
      ]
     },
     "execution_count": 13,
     "metadata": {},
     "output_type": "execute_result"
    }
   ],
   "source": [
    "T = int(input())\n",
    "\n",
    "for i in range(T):\n",
    "    H, W, N = map(int, input().split())\n",
    "    rooms = []\n",
    "    for i in range(1, W+1, 1):\n",
    "        temp = \"\"\n",
    "        for j in range(1, H+1, 1):\n",
    "            if i < 10:\n",
    "                temp += str(j) + \"0\" + str(i)\n",
    "            else:\n",
    "                temp += str(j) + str(i)\n",
    "            rooms.append(temp)\n",
    "            temp = \"\"\n",
    "    print(rooms)\n",
    "    \n",
    "\"\"\"\n",
    "6 12 12\n",
    "101 201 301 401 501 601\n",
    "102 202 302 402 502 602\n",
    "INPUT \n",
    "2 \n",
    "20 20  180 \n",
    "30 30 270\n",
    "\n",
    "OUTPUT\n",
    "209\n",
    "309\n",
    "\n",
    "ANSWER\n",
    "\n",
    "2009\n",
    "\n",
    "3009\n",
    "\n",
    "\"\"\""
   ]
  }
 ],
 "metadata": {
  "kernelspec": {
   "display_name": "Python 3",
   "language": "python",
   "name": "python3"
  },
  "language_info": {
   "codemirror_mode": {
    "name": "ipython",
    "version": 3
   },
   "file_extension": ".py",
   "mimetype": "text/x-python",
   "name": "python",
   "nbconvert_exporter": "python",
   "pygments_lexer": "ipython3",
   "version": "3.7.4"
  }
 },
 "nbformat": 4,
 "nbformat_minor": 4
}
