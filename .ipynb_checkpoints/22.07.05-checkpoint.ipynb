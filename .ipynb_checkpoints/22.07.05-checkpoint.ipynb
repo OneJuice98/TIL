{
 "cells": [
  {
   "cell_type": "markdown",
   "metadata": {},
   "source": [
    "### 스택 수열 #1874\n",
    "\n",
    " * 스택\n",
    "  - 스택은 자료를 넣는 입구(push) = 자료를 뽑는 입구 (pop)\n",
    "  - LIFO (Last in First out) "
   ]
  },
  {
   "cell_type": "markdown",
   "metadata": {},
   "source": [
    "#### 예제 풀이\n",
    "\n",
    " |---| Array|\n",
    " |:---:|:---:|\n",
    " |push|1 2 3 4   |\n",
    " |pop |4 3       |\n",
    " |push|1 2 5 6   |\n",
    " |pop |6         |\n",
    " |push| 1 2 5 7 8|\n",
    " |pop | 8 7 5 2 1|\n",
    " \n",
    " * pop 순서를 통해 수열의 가능 여부를 판단 가능"
   ]
  },
  {
   "cell_type": "code",
   "execution_count": 5,
   "metadata": {},
   "outputs": [
    {
     "name": "stdout",
     "output_type": "stream",
     "text": [
      "[4, 1, 2, 3, 6, 8, 1, 2, 3, 1, 2, 3, 4, 5, 1, 2, 3, 4, 5, 6, 7, 1, 2, 3, 1, 2, 3, 4, 5, 1, 2, 1]\n"
     ]
    }
   ],
   "source": [
    "N = int(input())\n",
    "seq = []\n",
    "ans = []\n",
    "can_make = True \n",
    "cur = 1\n",
    "for i in range(N):\n",
    "    num = int(input())\n",
    "    while cur <= num:\n",
    "        seq.append(cur)\n",
    "        ans.append(\"+\")\n",
    "        cur += 1\n",
    "    if seq[-1] == num:\n",
    "        seq.pop()\n",
    "        ans.append(\"-\")\n",
    "    else:\n",
    "        print(\"NO\")\n",
    "        can_make = False\n",
    "        break\n",
    "\n",
    "if can_make:\n",
    "    for i in ans:\n",
    "        print(i)"
   ]
  },
  {
   "cell_type": "code",
   "execution_count": 6,
   "metadata": {},
   "outputs": [
    {
     "data": {
      "text/plain": [
       "[1, 2, 3, 4, 5]"
      ]
     },
     "execution_count": 6,
     "metadata": {},
     "output_type": "execute_result"
    }
   ],
   "source": [
    "[1, 2, 3] + [4,5]"
   ]
  }
 ],
 "metadata": {
  "kernelspec": {
   "display_name": "Python 3",
   "language": "python",
   "name": "python3"
  }
 },
 "nbformat": 4,
 "nbformat_minor": 4
}
