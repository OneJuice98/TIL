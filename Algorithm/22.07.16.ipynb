{
 "cells": [
  {
   "cell_type": "markdown",
   "metadata": {},
   "source": [
    "### ACM 호텔 #10250"
   ]
  },
  {
   "cell_type": "code",
   "execution_count": 19,
   "metadata": {},
   "outputs": [
    {
     "name": "stdout",
     "output_type": "stream",
     "text": [
      "2\n",
      "20 20 180\n",
      "2009\n",
      "30 30 270\n",
      "3009\n"
     ]
    },
    {
     "data": {
      "text/plain": [
       "'\\n6 12 12\\n101 201 301 401 501 601\\n102 202 302 402 502 602\\nINPUT \\n2 \\n20 20  180 \\n30 30 270\\n\\nOUTPUT\\n209\\n309\\n\\nANSWER\\n\\n2009\\n\\n3009\\n\\n'"
      ]
     },
     "execution_count": 19,
     "metadata": {},
     "output_type": "execute_result"
    }
   ],
   "source": [
    "T = int(input())\n",
    "\n",
    "for i in range(T):\n",
    "    H, W, N = map(int, input().split())\n",
    "    rooms = []\n",
    "    for i in range(1, W+1, 1):\n",
    "        temp = \"\"\n",
    "        for j in range(1, H+1, 1):\n",
    "            if i < 10:\n",
    "                temp += str(j) + \"0\" + str(i)\n",
    "            else:\n",
    "                temp += str(j) + str(i)\n",
    "            rooms.append(temp)\n",
    "            temp = \"\"\n",
    "    print(rooms[N-1])\n",
    "    \n"
   ]
  }
 ],
 "metadata": {
  "kernelspec": {
   "display_name": "Python 3",
   "language": "python",
   "name": "python3"
  },
  "language_info": {
   "codemirror_mode": {
    "name": "ipython",
    "version": 3
   },
   "file_extension": ".py",
   "mimetype": "text/x-python",
   "name": "python",
   "nbconvert_exporter": "python",
   "pygments_lexer": "ipython3",
   "version": "3.7.4"
  }
 },
 "nbformat": 4,
 "nbformat_minor": 4
}
