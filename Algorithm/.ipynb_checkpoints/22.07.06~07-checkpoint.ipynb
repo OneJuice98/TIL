{
 "cells": [
  {
   "cell_type": "markdown",
   "metadata": {},
   "source": [
    "### 최대공약수와 최소공배수 #2609\n",
    "\n",
    " * 스택\n",
    "  - 스택은 자료를 넣는 입구(push) = 자료를 뽑는 입구 (pop)\n",
    "  - LIFO (Last in First out) "
   ]
  },
  {
   "cell_type": "code",
   "execution_count": null,
   "metadata": {},
   "outputs": [
    {
     "name": "stdout",
     "output_type": "stream",
     "text": [
      "18 24\n"
     ]
    }
   ],
   "source": [
    "A, B = map(int, input().split())\n",
    "\n",
    "min_val = 10000\n",
    "max_val = 0\n",
    "\n",
    "for i in range(1, min(A, B)+1):\n",
    "    if A % i == 0 and B % i == 0:\n",
    "        if max_val < i:\n",
    "            max_val = i\n",
    "    mins.append(max(A,B)*i)\n",
    "\n",
    "cnt = 1\n",
    "while True:\n",
    "    if max(A, B) * cnt % min(A, B) == 0:\n",
    "        min_val = max(A, B) * cnt\n",
    "        break\n",
    "    cnt += 1\n",
    "print(max_val)\n",
    "print(min_val)\n",
    "\n"
   ]
  }
 ],
 "metadata": {
  "kernelspec": {
   "display_name": "Python 3",
   "language": "python",
   "name": "python3"
  },
  "language_info": {
   "codemirror_mode": {
    "name": "ipython",
    "version": 3
   },
   "file_extension": ".py",
   "mimetype": "text/x-python",
   "name": "python",
   "nbconvert_exporter": "python",
   "pygments_lexer": "ipython3",
   "version": "3.7.4"
  }
 },
 "nbformat": 4,
 "nbformat_minor": 4
}
