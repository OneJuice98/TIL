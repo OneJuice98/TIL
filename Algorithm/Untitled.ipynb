{
 "cells": [
  {
   "cell_type": "markdown",
   "metadata": {},
   "source": [
    "### 좌표 정렬하기 #11650\n",
    "\n",
    " * ㅋ"
   ]
  },
  {
   "cell_type": "code",
   "execution_count": 4,
   "metadata": {},
   "outputs": [
    {
     "name": "stdout",
     "output_type": "stream",
     "text": [
      "2\n",
      "3 1\n",
      "1 3\n",
      "1 3\n",
      "3 1\n"
     ]
    }
   ],
   "source": [
    "N = int(input())\n",
    "\n",
    "ans = []\n",
    "for i in range(N):\n",
    "    x, y = map(int, input().split())\n",
    "    ans.append([x,y])\n",
    "    \n",
    "ans = sorted(ans)\n",
    "\n",
    "for i in ans:\n",
    "    print(i[0], i[1])"
   ]
  },
  {
   "cell_type": "markdown",
   "metadata": {},
   "source": [
    "### 이항 계수1 #11050\n",
    "\n",
    " * nCk 구하기!"
   ]
  },
  {
   "cell_type": "code",
   "execution_count": 15,
   "metadata": {},
   "outputs": [
    {
     "name": "stdout",
     "output_type": "stream",
     "text": [
      "5 2\n",
      "10\n"
     ]
    }
   ],
   "source": [
    "N, K = map(int, input().split())\n",
    "\n",
    "ans = 1\n",
    "for i in range(N, N-K, -1):\n",
    "    ans *= i\n",
    "for j in range(1, K+1):\n",
    "    ans /= j\n",
    "    \n",
    "print(int(ans))"
   ]
  },
  {
   "cell_type": "markdown",
   "metadata": {},
   "source": [
    "### 수 찾기 #1920\n",
    "\n",
    " * ㅋㅋ 개쉬움\n",
    " * 개쉬울줄 알았으나 개어려움 ㅋㅋ\n",
    " * 이진 탐색!!!! 그냥 for문 돌리다가 시간초과 쳐뜨면 이진탐색부터 생각해라"
   ]
  },
  {
   "cell_type": "code",
   "execution_count": 35,
   "metadata": {},
   "outputs": [
    {
     "name": "stdout",
     "output_type": "stream",
     "text": [
      "5\n",
      "4 1 5 2 3\n",
      "5\n",
      "1 3 7 9 5\n",
      "0\n",
      "0\n",
      "1\n",
      "0\n",
      "0\n"
     ]
    }
   ],
   "source": [
    "N = int(input())\n",
    "ref = input().split()\n",
    "M = int(input())\n",
    "tar = input().split()\n",
    "tar2 = []\n",
    "for i in tar:\n",
    "    tar2.append(int(i))\n",
    "tar = sorted(tar)\n",
    "\n",
    "def BinarySearch(arr, tar):\n",
    "    cur, end = 0, len(arr)-1\n",
    "    find = False\n",
    "    while cur <= end:\n",
    "        mid = (cur + end) // 2\n",
    "        if arr[mid] == tar:\n",
    "            find = True\n",
    "            break\n",
    "        if arr[mid] > tar: \n",
    "            end= mid-1\n",
    "        else: \n",
    "            cur = mid+1\n",
    "    if find:\n",
    "        return 1\n",
    "    else:\n",
    "        return 0\n",
    "for i in tar:\n",
    "    print(BinarySearch(ref, i))"
   ]
  }
 ],
 "metadata": {
  "kernelspec": {
   "display_name": "Python 3",
   "language": "python",
   "name": "python3"
  },
  "language_info": {
   "codemirror_mode": {
    "name": "ipython",
    "version": 3
   },
   "file_extension": ".py",
   "mimetype": "text/x-python",
   "name": "python",
   "nbconvert_exporter": "python",
   "pygments_lexer": "ipython3",
   "version": "3.7.4"
  }
 },
 "nbformat": 4,
 "nbformat_minor": 4
}
