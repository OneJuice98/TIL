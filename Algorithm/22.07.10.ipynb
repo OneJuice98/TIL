{
 "cells": [
  {
   "cell_type": "markdown",
   "metadata": {},
   "source": [
    " ### 소수 찾기 #1978\n",
    "  * 에라토스테네스의 체 \n",
    "   1. 배열을 생성하여 초기화한다.\n",
    "   2. 2부터 시작해서 특정 수의 배수에 해당하는 수를 모두 지운다(지울때 자기자신은 지우지 않고, 이미 지워진 수는 건너뛴다.)\n",
    "   3. 2부터 시작하여 남아있는 수를 모두 출력한다.\n",
    "   <br>\n",
    "    → 에라토스테네스 굳이나 써야하나? 싶어서 안썼음!"
   ]
  },
  {
   "cell_type": "code",
   "execution_count": 2,
   "metadata": {
    "scrolled": false
   },
   "outputs": [
    {
     "name": "stdout",
     "output_type": "stream",
     "text": [
      "5\n",
      "1 2 3 4 5\n",
      "3\n"
     ]
    }
   ],
   "source": [
    "N = int(input())\n",
    "nums = map(int, input().split())\n",
    "\n",
    "ans = 0\n",
    "\n",
    "for num in nums:\n",
    "    cnt = 0\n",
    "    if num > 1:\n",
    "        for i in range(2, num):\n",
    "            if num % i == 0:\n",
    "                cnt += 1\n",
    "                break\n",
    "        if cnt == 0:\n",
    "            ans += 1\n",
    "print(ans)"
   ]
  },
  {
   "cell_type": "code",
   "execution_count": null,
   "metadata": {},
   "outputs": [],
   "source": []
  }
 ],
 "metadata": {
  "kernelspec": {
   "display_name": "Python 3",
   "language": "python",
   "name": "python3"
  },
  "language_info": {
   "codemirror_mode": {
    "name": "ipython",
    "version": 3
   },
   "file_extension": ".py",
   "mimetype": "text/x-python",
   "name": "python",
   "nbconvert_exporter": "python",
   "pygments_lexer": "ipython3",
   "version": "3.7.4"
  }
 },
 "nbformat": 4,
 "nbformat_minor": 4
}
