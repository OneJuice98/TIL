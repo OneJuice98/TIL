{
 "cells": [
  {
   "cell_type": "markdown",
   "metadata": {},
   "source": [
    "### 카드2 #2164\n",
    " * deque 써서 진짜 개잘풀었음!"
   ]
  },
  {
   "cell_type": "code",
   "execution_count": 6,
   "metadata": {},
   "outputs": [
    {
     "name": "stdout",
     "output_type": "stream",
     "text": [
      "4\n",
      "deque([1, 2, 3, 4])\n",
      "4\n"
     ]
    }
   ],
   "source": [
    "from collections import deque\n",
    "N = int(input())\n",
    "seq = deque(i for i in range(1, N+1))\n",
    "\n",
    "cnt = 0\n",
    "while len(seq) != 1:\n",
    "    if cnt % 2 == 0:\n",
    "        seq.popleft()\n",
    "    elif cnt % 2 == 1:\n",
    "        seq.append(seq.popleft())\n",
    "    cnt += 1\n",
    "\n",
    "print(seq[0])"
   ]
  },
  {
   "cell_type": "markdown",
   "metadata": {},
   "source": [
    "### 스택 #10828\n",
    " * stack : LIFO (Last in First Out)\n",
    " list 와 같다!"
   ]
  },
  {
   "cell_type": "code",
   "execution_count": 13,
   "metadata": {},
   "outputs": [
    {
     "name": "stdout",
     "output_type": "stream",
     "text": [
      "14\n",
      "push 1\n",
      "push 2\n",
      "top\n",
      "size\n",
      "empty\n",
      "pop\n",
      "pop\n",
      "pop\n",
      "size\n",
      "empty\n",
      "pop\n",
      "push 3\n",
      "empty\n",
      "top\n",
      "2\n",
      "2\n",
      "0\n",
      "2\n",
      "1\n",
      "-1\n",
      "0\n",
      "1\n",
      "-1\n",
      "0\n",
      "3\n"
     ]
    }
   ],
   "source": [
    "N = int(input())\n",
    "\n",
    "seq = []\n",
    "ans = []\n",
    "for i in range(N):\n",
    "    cmd = input().split()\n",
    "    if cmd[0] == 'push':\n",
    "        seq.append(int(cmd[1]))\n",
    "    elif cmd[0] == 'pop':\n",
    "        if len(seq) == 0:\n",
    "            ans.append(-1)\n",
    "        else:\n",
    "            ans.append(seq.pop())\n",
    "    elif cmd[0] == 'size':\n",
    "        ans.append(len(seq))\n",
    "    elif cmd[0] == 'empty':\n",
    "        if len(seq) == 0:\n",
    "            ans.append(1)\n",
    "        else:\n",
    "            ans.append(0)\n",
    "    elif cmd[0] == 'top':\n",
    "        if len(seq) == 0:\n",
    "            ans.append(-1)\n",
    "        else:\n",
    "            ans.append(seq[-1])\n",
    "for i in ans:\n",
    "    print(i)"
   ]
  },
  {
   "cell_type": "markdown",
   "metadata": {},
   "source": [
    "### 숫자 카드2 #10816"
   ]
  },
  {
   "cell_type": "code",
   "execution_count": 20,
   "metadata": {},
   "outputs": [
    {
     "name": "stdout",
     "output_type": "stream",
     "text": [
      "10\n",
      "6 3 2 10 10 10 -10 -10 7 3\n",
      "8\n",
      "10 9 -5 2 3 4 5 -10\n",
      "3 0 0 1 2 0 0 2 \n"
     ]
    }
   ],
   "source": [
    "N = int(input())\n",
    "S_nums = input().split()\n",
    "M = int(input())\n",
    "T_nums = input().split()\n",
    "\n",
    "ans = ''\n",
    "for i in T_nums:\n",
    "    if i not in S_nums:\n",
    "        ans += '0'\n",
    "    else:\n",
    "        ans += str(S_nums.count(i))\n",
    "    ans += ' '\n",
    "print(ans)"
   ]
  },
  {
   "cell_type": "code",
   "execution_count": 19,
   "metadata": {},
   "outputs": [
    {
     "data": {
      "text/plain": [
       "2"
      ]
     },
     "execution_count": 19,
     "metadata": {},
     "output_type": "execute_result"
    }
   ],
   "source": [
    "asdf = [123, 4, 4]\n",
    "asdf.count(4)"
   ]
  }
 ],
 "metadata": {
  "kernelspec": {
   "display_name": "Python 3",
   "language": "python",
   "name": "python3"
  },
  "language_info": {
   "codemirror_mode": {
    "name": "ipython",
    "version": 3
   },
   "file_extension": ".py",
   "mimetype": "text/x-python",
   "name": "python",
   "nbconvert_exporter": "python",
   "pygments_lexer": "ipython3",
   "version": "3.7.4"
  }
 },
 "nbformat": 4,
 "nbformat_minor": 4
}
