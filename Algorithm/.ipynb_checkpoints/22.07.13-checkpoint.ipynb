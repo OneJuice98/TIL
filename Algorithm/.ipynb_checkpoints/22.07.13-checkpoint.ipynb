{
 "cells": [
  {
   "cell_type": "markdown",
   "metadata": {},
   "source": [
    "### 괄호 #9012\n",
    " 1. ( 먼저 찾고 ) 찾으면 지우기\n",
    " 2. 없으면 내비두고 남은 것들로 1번 진행\n",
    " "
   ]
  },
  {
   "cell_type": "code",
   "execution_count": 8,
   "metadata": {},
   "outputs": [
    {
     "name": "stdout",
     "output_type": "stream",
     "text": [
      "2\n",
      "(())())\n",
      "(((()())()\n",
      "[['(', '(', ')', ')', '(', ')', ')'], ['(', '(', '(', '(', ')', '(', ')', ')', '(', ')']]\n",
      "[['(', '(', ')', ')', '(', ')', ')'], ['(', '(', '(', '(', ')', '(', ')', ')', '(', ')']]\n"
     ]
    }
   ],
   "source": [
    "N = int(input())\n",
    "\n",
    "seq = []\n",
    "for i in range(N):\n",
    "    seq.append(list(input()))\n",
    "    \n",
    "print(seq)\n",
    "    \n",
    "for i in range(N):\n",
    "    for idx, value in enumerate(seq[i]):\n",
    "        if idx+1 != len(seq[i]) and seq[i][idx] == \")\" and  value == \"(\":\n",
    "            seq[i].pop(idx-1)\n",
    "            seq[i].pop(idx)\n",
    "    \n",
    "print(seq)"
   ]
  }
 ],
 "metadata": {
  "kernelspec": {
   "display_name": "Python 3",
   "language": "python",
   "name": "python3"
  },
  "language_info": {
   "codemirror_mode": {
    "name": "ipython",
    "version": 3
   },
   "file_extension": ".py",
   "mimetype": "text/x-python",
   "name": "python",
   "nbconvert_exporter": "python",
   "pygments_lexer": "ipython3",
   "version": "3.7.4"
  }
 },
 "nbformat": 4,
 "nbformat_minor": 4
}
