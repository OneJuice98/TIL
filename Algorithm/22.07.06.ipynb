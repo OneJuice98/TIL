{
 "cells": [
  {
   "cell_type": "markdown",
   "metadata": {},
   "source": [
    "### 최대공약수와 최소공배수 #2609\n",
    "\n",
    " * 유클리드 호제법\n",
    "  - 최대공약수 GCD (A > B), A 와 B의 최대공약수 G는 B 와 A%B G` 서로 동일\n",
    "  - 최소공배수 A*B/GCD(A,B)"
   ]
  },
  {
   "cell_type": "code",
   "execution_count": 16,
   "metadata": {},
   "outputs": [
    {
     "name": "stdout",
     "output_type": "stream",
     "text": [
      "48 35\n",
      "1\n",
      "1680\n"
     ]
    }
   ],
   "source": [
    "# 너무 하드코딩이었다,, 생각하자 생각해!\n",
    "A, B = map(int, input().split())\n",
    "\n",
    "min_val = 10000\n",
    "max_val = 0\n",
    "\n",
    "for i in range(1, min(A, B)+1):\n",
    "    if A % i == 0 and B % i == 0:\n",
    "        if max_val < i:\n",
    "            max_val = i\n",
    "\n",
    "cnt = 1\n",
    "while True:\n",
    "    if max(A, B) * cnt % min(A, B) == 0:\n",
    "        min_val = max(A, B) * cnt\n",
    "        break\n",
    "    cnt += 1\n",
    "print(max_val)\n",
    "print(min_val)\n"
   ]
  },
  {
   "cell_type": "markdown",
   "metadata": {},
   "source": [
    "### Hashing #15829\n",
    "\n",
    " * 해시함수 \n",
    "  - r = 31, M = 1234567891"
   ]
  },
  {
   "cell_type": "code",
   "execution_count": 22,
   "metadata": {},
   "outputs": [
    {
     "name": "stdout",
     "output_type": "stream",
     "text": [
      "5\n",
      "abcde\n",
      "4739715\n"
     ]
    }
   ],
   "source": [
    "L = int(input())\n",
    "alphabet = input()\n",
    "r= 31 \n",
    "M= 1234567891\n",
    "ans = 0\n",
    "for idx, value in enumerate(alphabet):\n",
    "    ans += (ord(value)-96) * (31 ** idx)\n",
    "\n",
    "print(ans%M)"
   ]
  },
  {
   "cell_type": "markdown",
   "metadata": {},
   "source": [
    "### 요세푸스 문제0  #11866\n",
    "\n",
    " * \n",
    " 1 2 #3 4 5 #6 7 / 1 #2 3 4 5 6 #7 / 1 2 3 4 #5 6 7 / #1 2 3 #4 5 6 7 "
   ]
  },
  {
   "cell_type": "code",
   "execution_count": 44,
   "metadata": {},
   "outputs": [
    {
     "name": "stdout",
     "output_type": "stream",
     "text": [
      "7 3\n",
      "[0, 3, 6, 2, 5, 8, 11]\n"
     ]
    }
   ],
   "source": [
    "N, K = map(int, input().split())\n",
    "\n",
    "seq = []\n",
    "cnt = 0\n",
    "for i in range(0, 10000+1, K):\n",
    "    if i - N*cnt < 0:\n",
    "        seq.append(i)\n",
    "    else:\n",
    "        seq.append(i-N*cnt)\n",
    "    if i % 7 == 0:\n",
    "        cnt += 1\n",
    "    if len(seq) == N:\n",
    "        break\n",
    "#1 2 !3 4 5 !6 7  / 8 !9 10 11 !12 13 14 / !15 16 17 !18 19 \n",
    "#N % K // 3\n",
    "print(seq)"
   ]
  }
 ],
 "metadata": {
  "kernelspec": {
   "display_name": "Python 3",
   "language": "python",
   "name": "python3"
  },
  "language_info": {
   "codemirror_mode": {
    "name": "ipython",
    "version": 3
   },
   "file_extension": ".py",
   "mimetype": "text/x-python",
   "name": "python",
   "nbconvert_exporter": "python",
   "pygments_lexer": "ipython3",
   "version": "3.7.4"
  }
 },
 "nbformat": 4,
 "nbformat_minor": 4
}
