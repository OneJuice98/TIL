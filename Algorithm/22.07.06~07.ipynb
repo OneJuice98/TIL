{
 "cells": [
  {
   "cell_type": "markdown",
   "metadata": {},
   "source": [
    "### 최대공약수와 최소공배수 #2609\n",
    "\n",
    " * 유클리드 호제법\n",
    "  - 최대공약수 GCD (A > B), A 와 B의 최대공약수 G는 B 와 A%B G` 서로 동일\n",
    "  - 최소공배수 A*B/GCD(A,B)"
   ]
  },
  {
   "cell_type": "code",
   "execution_count": 16,
   "metadata": {},
   "outputs": [
    {
     "name": "stdout",
     "output_type": "stream",
     "text": [
      "48 35\n",
      "1\n",
      "1680\n"
     ]
    }
   ],
   "source": [
    "# 너무 하드코딩이었다,, 생각하자 생각해!\n",
    "A, B = map(int, input().split())\n",
    "\n",
    "min_val = 10000\n",
    "max_val = 0\n",
    "\n",
    "for i in range(1, min(A, B)+1):\n",
    "    if A % i == 0 and B % i == 0:\n",
    "        if max_val < i:\n",
    "            max_val = i\n",
    "\n",
    "cnt = 1\n",
    "while True:\n",
    "    if max(A, B) * cnt % min(A, B) == 0:\n",
    "        min_val = max(A, B) * cnt\n",
    "        break\n",
    "    cnt += 1\n",
    "print(max_val)\n",
    "print(min_val)\n"
   ]
  },
  {
   "cell_type": "markdown",
   "metadata": {},
   "source": [
    "### Hashing #15829\n",
    "\n",
    " * 해시함수 \n",
    "  - r = 31, M = 1234567891"
   ]
  },
  {
   "cell_type": "code",
   "execution_count": 22,
   "metadata": {},
   "outputs": [
    {
     "name": "stdout",
     "output_type": "stream",
     "text": [
      "5\n",
      "abcde\n",
      "4739715\n"
     ]
    }
   ],
   "source": [
    "L = int(input())\n",
    "alphabet = input()\n",
    "r= 31 \n",
    "M= 1234567891\n",
    "ans = 0\n",
    "for idx, value in enumerate(alphabet):\n",
    "    ans += (ord(value)-96) * (31 ** idx)\n",
    "\n",
    "print(ans%M)"
   ]
  },
  {
   "cell_type": "markdown",
   "metadata": {},
   "source": [
    "### 요세푸스 문제0  #11866\n",
    "\n",
    "#### 22.07.07\n",
    " * \n",
    " 1 2 #3 4 5 #6 7 / 1 #2 3 4 5 6 #7 / 1 2 3 4 #5 6 7 / #1 2 3 #4 5 6 7 "
   ]
  },
  {
   "cell_type": "code",
   "execution_count": 55,
   "metadata": {},
   "outputs": [
    {
     "name": "stdout",
     "output_type": "stream",
     "text": [
      "7 3\n",
      "<3, 6, 2, 7, 5, 1, 4>\n"
     ]
    }
   ],
   "source": [
    "N, K = map(int, input().split())\n",
    "\n",
    "seq = [i+1 for i in range(N)]\n",
    "ans = []\n",
    "\n",
    "cur = 0\n",
    "cnt = 1\n",
    "while len(ans) != N:\n",
    "\n",
    "    if cnt % K == 0:\n",
    "        ans.append(seq[cur])\n",
    "        cnt = 0\n",
    "    cnt += 1\n",
    "    cur += 1\n",
    "    if cur == len(seq):\n",
    "        cur = 0\n",
    "        for i in ans:\n",
    "            if i in seq:\n",
    "                seq.pop(seq.index(i))\n",
    "\n",
    "ans_str = '<'\n",
    "for idx, i in enumerate(ans):\n",
    "    ans_str += str(i)\n",
    "    if idx != len(ans)-1:\n",
    "        ans_str += ', '\n",
    "ans_str += '>'\n",
    "print(ans_str)"
   ]
  },
  {
   "cell_type": "markdown",
   "metadata": {},
   "source": [
    "### 직각삼각형  #4153\n",
    "\n",
    "#### 22.07.07"
   ]
  },
  {
   "cell_type": "code",
   "execution_count": 60,
   "metadata": {},
   "outputs": [
    {
     "name": "stdout",
     "output_type": "stream",
     "text": [
      "8 6 10\n",
      "[6, 8, 10]\n",
      "right\n",
      "0 0 0\n"
     ]
    }
   ],
   "source": [
    "while True:\n",
    "    A, B, C = map(int, input().split())\n",
    "    if A+B+C == 0:\n",
    "        break\n",
    "    length = sorted([A, B, C])\n",
    "    A, B, C = length[0], length[1], length[2]\n",
    "\n",
    "    if C**2 == A**2 + B**2:\n",
    "        print('right')\n",
    "    else:\n",
    "        print('wrong')\n"
   ]
  }
 ],
 "metadata": {
  "kernelspec": {
   "display_name": "Python 3",
   "language": "python",
   "name": "python3"
  },
  "language_info": {
   "codemirror_mode": {
    "name": "ipython",
    "version": 3
   },
   "file_extension": ".py",
   "mimetype": "text/x-python",
   "name": "python",
   "nbconvert_exporter": "python",
   "pygments_lexer": "ipython3",
   "version": "3.7.4"
  }
 },
 "nbformat": 4,
 "nbformat_minor": 4
}
