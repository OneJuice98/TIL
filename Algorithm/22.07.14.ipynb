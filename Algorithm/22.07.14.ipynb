{
 "cells": [
  {
   "cell_type": "markdown",
   "metadata": {},
   "source": [
    "### 나이순 정렬 #10814"
   ]
  },
  {
   "cell_type": "code",
   "execution_count": 6,
   "metadata": {},
   "outputs": [
    {
     "name": "stdout",
     "output_type": "stream",
     "text": [
      "3\n",
      "21 Jun\n",
      "21 Doh\n",
      "20 Sun\n",
      "20 Sun\n",
      "21 Jun\n",
      "21 Doh\n"
     ]
    }
   ],
   "source": [
    "N = int(input())\n",
    "\n",
    "users = []\n",
    "for i in range(N):\n",
    "    age, name = map(str, input().split())\n",
    "    users.append([int(age), name, i])\n",
    "    \n",
    "users = sorted(users, key=lambda age : age[0])\n",
    "for i in users:\n",
    "    print(i[0], end=\" \")\n",
    "    print(i[1])\n"
   ]
  }
 ],
 "metadata": {
  "kernelspec": {
   "display_name": "Python 3",
   "language": "python",
   "name": "python3"
  },
  "language_info": {
   "codemirror_mode": {
    "name": "ipython",
    "version": 3
   },
   "file_extension": ".py",
   "mimetype": "text/x-python",
   "name": "python",
   "nbconvert_exporter": "python",
   "pygments_lexer": "ipython3",
   "version": "3.7.4"
  }
 },
 "nbformat": 4,
 "nbformat_minor": 4
}
